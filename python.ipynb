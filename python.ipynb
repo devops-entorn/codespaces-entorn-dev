{
 "cells": [
  {
   "cell_type": "code",
   "execution_count": 2,
   "id": "8c8d0796-9e21-4f35-8941-ab7919f34a32",
   "metadata": {
    "tags": []
   },
   "outputs": [
    {
     "name": "stdout",
     "output_type": "stream",
     "text": [
      "44"
     ]
    }
   ],
   "source": [
    "print(44)"
   ]
  },
  {
   "cell_type": "code",
   "execution_count": null,
   "id": "07061fa2-4584-4567-8b03-26d8fd90867e",
   "metadata": {},
   "outputs": [],
   "source": []
  }
 ],
 "metadata": {
  "kernelspec": {
   "display_name": "Java",
   "language": "java",
   "name": "java"
  },
  "language_info": {
   "codemirror_mode": "java",
   "file_extension": ".jshell",
   "mimetype": "text/x-java-source",
   "name": "Java",
   "pygments_lexer": "java",
   "version": "17.0.6+10-LTS"
  }
 },
 "nbformat": 4,
 "nbformat_minor": 5
}
