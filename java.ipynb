{
 "cells": [
  {
   "cell_type": "code",
   "execution_count": null,
   "id": "18844200-8b72-4b9c-a169-fd0b1816c2c2",
   "metadata": {
    "tags": [],
    "vscode": {
     "languageId": "java"
    }
   },
   "outputs": [],
   "source": [
    "String msg = \"Hello Lluna\";\n",
    "System.out.printf(\"%s%n\",msg);"
   ]
  },
  {
   "cell_type": "code",
   "execution_count": null,
   "id": "97282483-8ffc-4635-86d5-df6ef1d8cd9a",
   "metadata": {
    "vscode": {
     "languageId": "java"
    }
   },
   "outputs": [],
   "source": []
  }
 ],
 "metadata": {
  "kernelspec": {
   "display_name": "Java",
   "language": "java",
   "name": "java"
  },
  "language_info": {
   "codemirror_mode": "java",
   "file_extension": ".jshell",
   "mimetype": "text/x-java-source",
   "name": "Java",
   "pygments_lexer": "java",
   "version": "17.0.6+10-LTS"
  }
 },
 "nbformat": 4,
 "nbformat_minor": 5
}
